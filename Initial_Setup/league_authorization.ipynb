{
 "cells": [
  {
   "cell_type": "code",
   "execution_count": 3,
   "metadata": {},
   "outputs": [
    {
     "name": "stderr",
     "output_type": "stream",
     "text": [
      "[2018-10-02 22:16:33,894 DEBUG] [yahoo_oauth.yahoo_oauth.__init__] Checking \n",
      "[2018-10-02 22:16:33,896 DEBUG] [yahoo_oauth.yahoo_oauth.handler] AUTHORISATION URL : https://api.login.yahoo.com/oauth2/request_auth?client_secret=b051ad5ceac5e57ac96932119c2a8110d28e79c4&redirect_uri=oob&response_type=code&client_id=dj0yJmk9RjBFampuc1VDdTRTJmQ9WVdrOU4yZGlTV3BVTm04bWNHbzlNQS0tJnM9Y29uc3VtZXJzZWNyZXQmeD03NQ--\n"
     ]
    },
    {
     "name": "stdout",
     "output_type": "stream",
     "text": [
      "Enter verifier : xbztsb7\n"
     ]
    },
    {
     "name": "stderr",
     "output_type": "stream",
     "text": [
      "[2018-10-02 22:16:54,689 DEBUG] [yahoo_oauth.yahoo_oauth.token_is_valid] ELAPSED TIME : 0.544435977935791\n",
      "[2018-10-02 22:16:54,690 DEBUG] [yahoo_oauth.yahoo_oauth.token_is_valid] TOKEN IS STILL VALID\n"
     ]
    },
    {
     "name": "stdout",
     "output_type": "stream",
     "text": [
      "Authorization Complete\n"
     ]
    }
   ],
   "source": [
    "import pandas as pd\n",
    "from yahoo_oauth import OAuth2\n",
    "import logging\n",
    "#oauth_logger = logging.getLogger('yahoo_oauth')\n",
    "#oauth_logger.disabled = True\n",
    "import json\n",
    "from json import dumps\n",
    "import datetime\n",
    "\n",
    "\n",
    "class Yahoo_Api():\n",
    "    def __init__(self, \n",
    "                 consumer_key, \n",
    "\n",
    "                 consumer_secret#,\n",
    "                #access_token\n",
    "                ):\n",
    "        self._consumer_key = consumer_key\n",
    "        self._consumer_secret = consumer_secret\n",
    "        #self._access_token = access_token\n",
    "        self._authorization = None\n",
    "    def _login(self):\n",
    "        global oauth\n",
    "        oauth = OAuth2(None, None, from_file='../auth/oauth2yahoo_check.json')\n",
    "        if not oauth.token_is_valid():\n",
    "            oauth.refresh_access_token()\n",
    "\n",
    "class Authorize():\n",
    "\n",
    "    def AuthorizeLeague(self):\n",
    "        # UPDATE LEAGUE GAME ID\n",
    "        yahoo_api._login()\n",
    "        url = 'https://fantasysports.yahooapis.com/fantasy/v2/league/380.l.XXXXXX/transactions'\n",
    "        response = oauth.session.get(url, params={'format': 'json'})\n",
    "        r = response.json()\n",
    "        #with open('YahooGameInfo.json', 'w') as outfile:\n",
    "            #json.dump(r, outfile)\n",
    "            #return;\n",
    "def main():\n",
    "##### Get Yahoo Auth ####\n",
    "\n",
    "    # Yahoo Keys\n",
    "    with open('../auth/oauth2yahoo_check.json') as json_yahoo_file:\n",
    "        auths = json.load(json_yahoo_file)\n",
    "    yahoo_consumer_key = auths['consumer_key']\n",
    "    yahoo_consumer_secret = auths['consumer_secret']\n",
    "    #yahoo_access_token = auths['access_token']\n",
    "    #yahoo_access_secret = auths['access_token_secret']\n",
    "    json_yahoo_file.close()\n",
    "\n",
    "#### Declare Yahoo Variable ####\n",
    "\n",
    "    global yahoo_api\n",
    "    yahoo_api = Yahoo_Api(yahoo_consumer_key,\n",
    "                            yahoo_consumer_secret,\n",
    "                            #yahoo_access_token,\n",
    "                            #yahoo_access_secret)\n",
    "                                )\n",
    "#### Where the magic happen ####\n",
    "    bot = Bot(yahoo_api)\n",
    "    bot.run()\n",
    "\n",
    "class Bot():\n",
    "    def __init__(self, yahoo_api):\n",
    "\n",
    "        self._yahoo_api = yahoo_api\n",
    "\n",
    "    def run(self):\n",
    "        # Data Updates\n",
    "        at = Authorize()\n",
    "        at.AuthorizeLeague()\n",
    "        print('Authorization Complete')\n",
    "\n",
    "if __name__ == \"__main__\":\n",
    "    main()\n"
   ]
  },
  {
   "cell_type": "code",
   "execution_count": null,
   "metadata": {},
   "outputs": [],
   "source": []
  }
 ],
 "metadata": {
  "kernelspec": {
   "display_name": "Python 3",
   "language": "python",
   "name": "python3"
  },
  "language_info": {
   "codemirror_mode": {
    "name": "ipython",
    "version": 3
   },
   "file_extension": ".py",
   "mimetype": "text/x-python",
   "name": "python",
   "nbconvert_exporter": "python",
   "pygments_lexer": "ipython3",
   "version": "3.7.0"
  }
 },
 "nbformat": 4,
 "nbformat_minor": 2
}
